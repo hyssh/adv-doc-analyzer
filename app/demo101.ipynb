{
 "cells": [
  {
   "cell_type": "code",
   "execution_count": null,
   "metadata": {},
   "outputs": [],
   "source": [
    "import os\n",
    "import sys\n",
    "from dotenv import load_dotenv\n",
    "\n",
    "sys.path.append(os.getcwd())\n",
    "env_file_path = '.env'\n",
    "load_dotenv(env_file_path, override=True)\n",
    "\n",
    "print(f'OpenAI endpoint {os.getenv(\"AZURE_OPENAI_API_BASE\")}')"
   ]
  },
  {
   "cell_type": "code",
   "execution_count": null,
   "metadata": {},
   "outputs": [],
   "source": [
    "from preprocess import Preprocess \n",
    "\n",
    "prep = Preprocess()\n",
    "prep.upload_document(source_file_full_path=r\"C:\\Users\\hyssh\\workspace\\advance-doc-analyzer\\sample_docs\\SAMPLE15.docx\")"
   ]
  },
  {
   "cell_type": "code",
   "execution_count": null,
   "metadata": {},
   "outputs": [],
   "source": [
    "# prep.source_document.to_dict()"
   ]
  },
  {
   "cell_type": "code",
   "execution_count": null,
   "metadata": {},
   "outputs": [],
   "source": [
    "results = prep.run_document_analysis()\n",
    "print(results.content_format)\n",
    "print(len(results.pages))"
   ]
  },
  {
   "cell_type": "code",
   "execution_count": null,
   "metadata": {},
   "outputs": [],
   "source": []
  },
  {
   "cell_type": "code",
   "execution_count": null,
   "metadata": {},
   "outputs": [],
   "source": [
    "for paragraph in results.paragraphs:\n",
    "    print(paragraph.content)\n",
    "    # for line_idx, line in enumerate(page.lines):\n",
    "    #     print(f'[{line_idx}] - {line.text}')"
   ]
  },
  {
   "cell_type": "code",
   "execution_count": null,
   "metadata": {},
   "outputs": [],
   "source": [
    "# # results.pages[0].words\n",
    "# # extract the test from pages\n",
    "# # for page in results.pages:\n",
    "# page_contents = []\n",
    "\n",
    "# for pg in results.pages:\n",
    "#     # print(pg)\n",
    "#     page_contents.append(' '.join([c['content'] for c in pg['words']]))\n",
    "\n",
    "# page_contents"
   ]
  },
  {
   "cell_type": "code",
   "execution_count": null,
   "metadata": {},
   "outputs": [],
   "source": [
    "len(page_contents)"
   ]
  },
  {
   "cell_type": "code",
   "execution_count": null,
   "metadata": {},
   "outputs": [],
   "source": [
    "# file_list = prep.chunk_and_save_document(analyzed_document=results)\n",
    "# # file_list"
   ]
  },
  {
   "cell_type": "code",
   "execution_count": null,
   "metadata": {},
   "outputs": [],
   "source": [
    "# prep.build_index_search()"
   ]
  },
  {
   "cell_type": "code",
   "execution_count": null,
   "metadata": {},
   "outputs": [],
   "source": []
  }
 ],
 "metadata": {
  "kernelspec": {
   "display_name": "openai",
   "language": "python",
   "name": "python3"
  },
  "language_info": {
   "codemirror_mode": {
    "name": "ipython",
    "version": 3
   },
   "file_extension": ".py",
   "mimetype": "text/x-python",
   "name": "python",
   "nbconvert_exporter": "python",
   "pygments_lexer": "ipython3",
   "version": "3.10.11"
  }
 },
 "nbformat": 4,
 "nbformat_minor": 2
}
