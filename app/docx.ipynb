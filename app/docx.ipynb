{
 "cells": [
  {
   "cell_type": "code",
   "execution_count": null,
   "metadata": {},
   "outputs": [],
   "source": [
    "from docx import Document\n",
    "\n",
    "gold_doc = Document(r'C:\\Users\\hyssh\\workspace\\advance-doc-analyzer\\sample_docs\\SAMPLE10.docx')\n",
    "new_doc = Document(r'C:\\Users\\hyssh\\workspace\\advance-doc-analyzer\\sample_docs\\SAMPLE15.docx')"
   ]
  },
  {
   "cell_type": "code",
   "execution_count": null,
   "metadata": {},
   "outputs": [],
   "source": [
    "for i, p in enumerate(gold_doc.paragraphs):\n",
    "    print(f'{i}: {p.text}')\n",
    "    if i > 10:\n",
    "        break\n",
    "    "
   ]
  },
  {
   "cell_type": "code",
   "execution_count": null,
   "metadata": {},
   "outputs": [],
   "source": [
    "# print first 10 paragraphs\n",
    "\n",
    "for i, p in enumerate(new_doc.paragraphs):\n",
    "    print(f'{i}: {p.text}')\n",
    "    if i > 10:\n",
    "        break\n",
    "    "
   ]
  },
  {
   "cell_type": "code",
   "execution_count": null,
   "metadata": {},
   "outputs": [],
   "source": [
    "# new_doc.paragraphs[3].add_comment('This is a comment', 'Hyssh')\n",
    "paragraph3 = new_doc.paragraphs[3]\n",
    "paragraph3.add_comment('This is a comment', 'Hyssh')\n",
    "\n",
    "new_doc.save(r'C:\\Users\\hyssh\\workspace\\advance-doc-analyzer\\sample_docs\\SAMPLE16.docx')"
   ]
  },
  {
   "cell_type": "code",
   "execution_count": null,
   "metadata": {},
   "outputs": [],
   "source": [
    "paragraph4 = new_doc.paragraphs[4]\n",
    "run = paragraph4.add_run(\"This is run test. I don't know what will be happen.\")\n",
    "run.add_comment('This is a comment after the RUN', 'Hyssh')\n",
    "\n",
    "\n",
    "\n",
    "new_doc.save(r'C:\\Users\\hyssh\\workspace\\advance-doc-analyzer\\sample_docs\\SAMPLE17.docx')"
   ]
  },
  {
   "cell_type": "code",
   "execution_count": null,
   "metadata": {},
   "outputs": [],
   "source": [
    "paragraph41 = new_doc.paragraphs[4]\n",
    "paragraph41.add_comment('This is a comment after the RUN', 'Hyssh')\n",
    "# run = paragraph41\n",
    "\n",
    "# new_doc.save(r'C:\\Users\\hyssh\\workspace\\advance-doc-analyzer\\sample_docs\\SAMPLE18.docx')"
   ]
  }
 ],
 "metadata": {
  "kernelspec": {
   "display_name": "openai",
   "language": "python",
   "name": "python3"
  },
  "language_info": {
   "codemirror_mode": {
    "name": "ipython",
    "version": 3
   },
   "file_extension": ".py",
   "mimetype": "text/x-python",
   "name": "python",
   "nbconvert_exporter": "python",
   "pygments_lexer": "ipython3",
   "version": "3.10.11"
  }
 },
 "nbformat": 4,
 "nbformat_minor": 2
}
